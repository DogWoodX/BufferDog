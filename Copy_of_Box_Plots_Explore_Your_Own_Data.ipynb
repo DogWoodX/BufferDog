{
  "cells": [
    {
      "cell_type": "markdown",
      "metadata": {
        "id": "view-in-github",
        "colab_type": "text"
      },
      "source": [
        "<a href=\"https://colab.research.google.com/github/DogWoodX/BufferDog/blob/master/Copy_of_Box_Plots_Explore_Your_Own_Data.ipynb\" target=\"_parent\"><img src=\"https://colab.research.google.com/assets/colab-badge.svg\" alt=\"Open In Colab\"/></a>"
      ]
    },
    {
      "cell_type": "markdown",
      "metadata": {
        "id": "dxVuKhTggdJ0"
      },
      "source": [
        "# Data Analysis With Python\n",
        "Sometimes we need more powerful tools to analyze our data. We will be using the Python programming language and two amazingly powerful Python libraries called pandas and Matplotlib. \n",
        "\n",
        "Next to each cell you should see \\[ \\]. Click on this tab to run the cell and import these two packages. "
      ]
    },
    {
      "cell_type": "code",
      "execution_count": null,
      "metadata": {
        "id": "F9MVm0U6gWz2"
      },
      "outputs": [],
      "source": [
        "# Import the package pandas and rename it in our code as pd\n",
        "import pandas as pd\n",
        "# Import the package matplotlib and rename it to plt\n",
        "import matplotlib.pyplot as plt\n",
        "# Other IO\n",
        "from google.colab import files\n",
        "import io"
      ]
    },
    {
      "cell_type": "markdown",
      "metadata": {
        "id": "TgRB34wLwjmP"
      },
      "source": [
        "We will be using the U.S. Census American Community Survey which consists of anonymized information about the lives of real Americans. \n",
        "\n",
        "Choose a state that you would like to explore! \n",
        "[Make sure to click the \\[\\] button next to the cell after making or changing your selection!"
      ]
    },
    {
      "cell_type": "code",
      "execution_count": null,
      "metadata": {
        "cellView": "form",
        "id": "Y3_LWBgJwbI6"
      },
      "outputs": [],
      "source": [
        "state_of_interest = \"Oregon\" #@param [\"Alabama\", \"Alaska\", \"Hawaii\", \"Iowa\", \"Massachusetts\", \"New Mexico\", \"Oregon\"]\n",
        "\n",
        "# This is a dictionary that stores a mapping from our state names to the csv\n",
        "# files that hold the data for each state. The first link corresponds to the\n",
        "# people data and the second for the household data.\n",
        "data_links = {\n",
        "    \"Alabama\":(\n",
        "        \"https://drive.google.com/file/d/1a4_0Ac9HYz73jJ2vEDzpJXZSREiK0EnX/view?usp=sharing\",\n",
        "        \"https://drive.google.com/file/d/1EIVlMZIbl0UgldqD8pIHBVc6rG77yAZ-/view?usp=sharing\"\n",
        "    ),\n",
        "    \"Massachusetts\": ( \n",
        "        \"https://drive.google.com/file/d/1lCgNZlUkiIogKbxhe3lbEBDeqphtLFZ8/view?usp=sharing\",\n",
        "        \"https://drive.google.com/file/d/1q_Zb2FWPN_B1EQNCNhUuzuZA4PDF3oaY/view?usp=sharing\"\n",
        "    ),\n",
        "    \"New Mexico\": (\n",
        "        \"https://drive.google.com/file/d/1ZfowpPwSZf7q2X15VEixJEstSZiWbz5t/view?usp=sharing\",\n",
        "        \"https://drive.google.com/file/d/1Ojws6ux7DnzJ6qM0AYYYMG2S7ZxsbyF1/view?usp=sharing\"\n",
        "    ),\n",
        "    \"Oregon\": (\n",
        "        \"https://drive.google.com/file/d/1Cg6EBRSttWuQMg8l7thF8GngPMEinPtk/view?usp=sharing\",\n",
        "        \"https://drive.google.com/file/d/1cA9QSXkKz09TL5yIQ6wYc722NvhTLgwS/view?usp=sharing\"\n",
        "    ),\n",
        "    \"Iowa\": (\n",
        "        \"https://drive.google.com/file/d/1EN1JPHz4JbL-oAAehSyY7Dmrq_BBI6Km/view?usp=sharing\",\n",
        "        \"https://drive.google.com/file/d/1Xn9dw9BzuwqppB217BxPMDLG8uPuQDMS/view?usp=sharing\"\n",
        "    ),\n",
        "    \"Hawaii\": (\n",
        "        \"https://drive.google.com/file/d/1ByzvSSY83JssZUimi4CI5cwVVzBI44mn/view?usp=sharing\",\n",
        "        \"https://drive.google.com/file/d/1jnQvhCJW1LwwN-mnrCvcwu0Dav5jBQje/view?usp=sharing\"\n",
        "    ),\n",
        "    \"Alaska\": (\n",
        "        \"https://drive.google.com/file/d/1SWZpexRTL8pqKa3NIW4wLDQwWewOclw6/view?usp=sharing\",\n",
        "        \"https://drive.google.com/file/d/1we_AvX5nBqv6Qr8w2tR2Pk6qQufneBod/view?usp=sharing\"\n",
        "    )\n",
        "}\n",
        "\n",
        "# Here we are turning the shareable google drive link into a downloadable csv.\n",
        "def drive_to_pandas(share_link):\n",
        "  \"\"\" Downloads a CSV in Google drive to a pandas dataframe. \"\"\"\n",
        "  download_link = 'https://drive.google.com/uc?export=download&id=' + share_link.split('/')[-2]\n",
        "  # Finally we use the download link to download our data from the web\n",
        "  return pd.read_csv(download_link)\n",
        "\n",
        "person_url, household_url = data_links[state_of_interest]\n",
        "person_data = drive_to_pandas(person_url)\n",
        "household_data = drive_to_pandas(household_url)"
      ]
    },
    {
      "cell_type": "markdown",
      "metadata": {
        "id": "iSl-3jERxwCH"
      },
      "source": [
        "The first step whenever you have a new dataset is to get a sense of which features (the columns like Age, Wages, etc) you have access to."
      ]
    },
    {
      "cell_type": "code",
      "execution_count": null,
      "metadata": {
        "colab": {
          "base_uri": "https://localhost:8080/",
          "height": 206
        },
        "id": "KyDvvs3eg2aH",
        "outputId": "4ae8804d-0224-4493-e603-45e39cddc753"
      },
      "outputs": [
        {
          "output_type": "execute_result",
          "data": {
            "text/plain": [
              "   AgeInYears  TravelTimeToWorkInMinutes  NumberOfPeopleInCarpool  \\\n",
              "0          51                        NaN                      NaN   \n",
              "1          17                        NaN                      NaN   \n",
              "2          13                        NaN                      NaN   \n",
              "3          48                       25.0                      1.0   \n",
              "4          63                        NaN                      NaN   \n",
              "\n",
              "   HoursWorkedWeeklyInPastYear  TotalIncomeInDollars  \n",
              "0                          NaN               40000.0  \n",
              "1                          NaN                3000.0  \n",
              "2                          NaN                   NaN  \n",
              "3                         40.0               15000.0  \n",
              "4                          NaN               31400.0  "
            ],
            "text/html": [
              "\n",
              "  <div id=\"df-f11fafd8-8a16-4308-9ecf-8b931f0c0efc\">\n",
              "    <div class=\"colab-df-container\">\n",
              "      <div>\n",
              "<style scoped>\n",
              "    .dataframe tbody tr th:only-of-type {\n",
              "        vertical-align: middle;\n",
              "    }\n",
              "\n",
              "    .dataframe tbody tr th {\n",
              "        vertical-align: top;\n",
              "    }\n",
              "\n",
              "    .dataframe thead th {\n",
              "        text-align: right;\n",
              "    }\n",
              "</style>\n",
              "<table border=\"1\" class=\"dataframe\">\n",
              "  <thead>\n",
              "    <tr style=\"text-align: right;\">\n",
              "      <th></th>\n",
              "      <th>AgeInYears</th>\n",
              "      <th>TravelTimeToWorkInMinutes</th>\n",
              "      <th>NumberOfPeopleInCarpool</th>\n",
              "      <th>HoursWorkedWeeklyInPastYear</th>\n",
              "      <th>TotalIncomeInDollars</th>\n",
              "    </tr>\n",
              "  </thead>\n",
              "  <tbody>\n",
              "    <tr>\n",
              "      <th>0</th>\n",
              "      <td>51</td>\n",
              "      <td>NaN</td>\n",
              "      <td>NaN</td>\n",
              "      <td>NaN</td>\n",
              "      <td>40000.0</td>\n",
              "    </tr>\n",
              "    <tr>\n",
              "      <th>1</th>\n",
              "      <td>17</td>\n",
              "      <td>NaN</td>\n",
              "      <td>NaN</td>\n",
              "      <td>NaN</td>\n",
              "      <td>3000.0</td>\n",
              "    </tr>\n",
              "    <tr>\n",
              "      <th>2</th>\n",
              "      <td>13</td>\n",
              "      <td>NaN</td>\n",
              "      <td>NaN</td>\n",
              "      <td>NaN</td>\n",
              "      <td>NaN</td>\n",
              "    </tr>\n",
              "    <tr>\n",
              "      <th>3</th>\n",
              "      <td>48</td>\n",
              "      <td>25.0</td>\n",
              "      <td>1.0</td>\n",
              "      <td>40.0</td>\n",
              "      <td>15000.0</td>\n",
              "    </tr>\n",
              "    <tr>\n",
              "      <th>4</th>\n",
              "      <td>63</td>\n",
              "      <td>NaN</td>\n",
              "      <td>NaN</td>\n",
              "      <td>NaN</td>\n",
              "      <td>31400.0</td>\n",
              "    </tr>\n",
              "  </tbody>\n",
              "</table>\n",
              "</div>\n",
              "      <button class=\"colab-df-convert\" onclick=\"convertToInteractive('df-f11fafd8-8a16-4308-9ecf-8b931f0c0efc')\"\n",
              "              title=\"Convert this dataframe to an interactive table.\"\n",
              "              style=\"display:none;\">\n",
              "        \n",
              "  <svg xmlns=\"http://www.w3.org/2000/svg\" height=\"24px\"viewBox=\"0 0 24 24\"\n",
              "       width=\"24px\">\n",
              "    <path d=\"M0 0h24v24H0V0z\" fill=\"none\"/>\n",
              "    <path d=\"M18.56 5.44l.94 2.06.94-2.06 2.06-.94-2.06-.94-.94-2.06-.94 2.06-2.06.94zm-11 1L8.5 8.5l.94-2.06 2.06-.94-2.06-.94L8.5 2.5l-.94 2.06-2.06.94zm10 10l.94 2.06.94-2.06 2.06-.94-2.06-.94-.94-2.06-.94 2.06-2.06.94z\"/><path d=\"M17.41 7.96l-1.37-1.37c-.4-.4-.92-.59-1.43-.59-.52 0-1.04.2-1.43.59L10.3 9.45l-7.72 7.72c-.78.78-.78 2.05 0 2.83L4 21.41c.39.39.9.59 1.41.59.51 0 1.02-.2 1.41-.59l7.78-7.78 2.81-2.81c.8-.78.8-2.07 0-2.86zM5.41 20L4 18.59l7.72-7.72 1.47 1.35L5.41 20z\"/>\n",
              "  </svg>\n",
              "      </button>\n",
              "      \n",
              "  <style>\n",
              "    .colab-df-container {\n",
              "      display:flex;\n",
              "      flex-wrap:wrap;\n",
              "      gap: 12px;\n",
              "    }\n",
              "\n",
              "    .colab-df-convert {\n",
              "      background-color: #E8F0FE;\n",
              "      border: none;\n",
              "      border-radius: 50%;\n",
              "      cursor: pointer;\n",
              "      display: none;\n",
              "      fill: #1967D2;\n",
              "      height: 32px;\n",
              "      padding: 0 0 0 0;\n",
              "      width: 32px;\n",
              "    }\n",
              "\n",
              "    .colab-df-convert:hover {\n",
              "      background-color: #E2EBFA;\n",
              "      box-shadow: 0px 1px 2px rgba(60, 64, 67, 0.3), 0px 1px 3px 1px rgba(60, 64, 67, 0.15);\n",
              "      fill: #174EA6;\n",
              "    }\n",
              "\n",
              "    [theme=dark] .colab-df-convert {\n",
              "      background-color: #3B4455;\n",
              "      fill: #D2E3FC;\n",
              "    }\n",
              "\n",
              "    [theme=dark] .colab-df-convert:hover {\n",
              "      background-color: #434B5C;\n",
              "      box-shadow: 0px 1px 3px 1px rgba(0, 0, 0, 0.15);\n",
              "      filter: drop-shadow(0px 1px 2px rgba(0, 0, 0, 0.3));\n",
              "      fill: #FFFFFF;\n",
              "    }\n",
              "  </style>\n",
              "\n",
              "      <script>\n",
              "        const buttonEl =\n",
              "          document.querySelector('#df-f11fafd8-8a16-4308-9ecf-8b931f0c0efc button.colab-df-convert');\n",
              "        buttonEl.style.display =\n",
              "          google.colab.kernel.accessAllowed ? 'block' : 'none';\n",
              "\n",
              "        async function convertToInteractive(key) {\n",
              "          const element = document.querySelector('#df-f11fafd8-8a16-4308-9ecf-8b931f0c0efc');\n",
              "          const dataTable =\n",
              "            await google.colab.kernel.invokeFunction('convertToInteractive',\n",
              "                                                     [key], {});\n",
              "          if (!dataTable) return;\n",
              "\n",
              "          const docLinkHtml = 'Like what you see? Visit the ' +\n",
              "            '<a target=\"_blank\" href=https://colab.research.google.com/notebooks/data_table.ipynb>data table notebook</a>'\n",
              "            + ' to learn more about interactive tables.';\n",
              "          element.innerHTML = '';\n",
              "          dataTable['output_type'] = 'display_data';\n",
              "          await google.colab.output.renderOutput(dataTable, element);\n",
              "          const docLink = document.createElement('div');\n",
              "          docLink.innerHTML = docLinkHtml;\n",
              "          element.appendChild(docLink);\n",
              "        }\n",
              "      </script>\n",
              "    </div>\n",
              "  </div>\n",
              "  "
            ]
          },
          "metadata": {},
          "execution_count": 5
        }
      ],
      "source": [
        "# Our microdata csv is now in the dataframe variable.\n",
        "# We can call the method \"head()\" on df to print out the first 5 rows.\n",
        "person_data.head()"
      ]
    },
    {
      "cell_type": "code",
      "execution_count": null,
      "metadata": {
        "colab": {
          "base_uri": "https://localhost:8080/",
          "height": 206
        },
        "id": "ZGfAw4llXYtB",
        "outputId": "225aafe3-0b2f-4db6-fd82-1ac68eddf7ed"
      },
      "outputs": [
        {
          "output_type": "execute_result",
          "data": {
            "text/plain": [
              "   WaterCostInDollars  FireHazardFloodInsuranceYearlyCostInDollars  \\\n",
              "0                 NaN                                        900.0   \n",
              "1                 NaN                                          NaN   \n",
              "2                 NaN                                          NaN   \n",
              "3                 NaN                                          NaN   \n",
              "4                 NaN                                          NaN   \n",
              "\n",
              "   GrossRentAsPercentOfIncome  NumberOfChildrenInHousehold  \\\n",
              "0                         NaN                          0.0   \n",
              "1                         NaN                          NaN   \n",
              "2                         NaN                          NaN   \n",
              "3                        29.0                          0.0   \n",
              "4                       101.0                          2.0   \n",
              "\n",
              "   NumberOfPeopleInHousehold  \n",
              "0                          2  \n",
              "1                          0  \n",
              "2                          1  \n",
              "3                          1  \n",
              "4                          3  "
            ],
            "text/html": [
              "\n",
              "  <div id=\"df-a5f7caab-c066-411c-b531-b02e34f8819f\">\n",
              "    <div class=\"colab-df-container\">\n",
              "      <div>\n",
              "<style scoped>\n",
              "    .dataframe tbody tr th:only-of-type {\n",
              "        vertical-align: middle;\n",
              "    }\n",
              "\n",
              "    .dataframe tbody tr th {\n",
              "        vertical-align: top;\n",
              "    }\n",
              "\n",
              "    .dataframe thead th {\n",
              "        text-align: right;\n",
              "    }\n",
              "</style>\n",
              "<table border=\"1\" class=\"dataframe\">\n",
              "  <thead>\n",
              "    <tr style=\"text-align: right;\">\n",
              "      <th></th>\n",
              "      <th>WaterCostInDollars</th>\n",
              "      <th>FireHazardFloodInsuranceYearlyCostInDollars</th>\n",
              "      <th>GrossRentAsPercentOfIncome</th>\n",
              "      <th>NumberOfChildrenInHousehold</th>\n",
              "      <th>NumberOfPeopleInHousehold</th>\n",
              "    </tr>\n",
              "  </thead>\n",
              "  <tbody>\n",
              "    <tr>\n",
              "      <th>0</th>\n",
              "      <td>NaN</td>\n",
              "      <td>900.0</td>\n",
              "      <td>NaN</td>\n",
              "      <td>0.0</td>\n",
              "      <td>2</td>\n",
              "    </tr>\n",
              "    <tr>\n",
              "      <th>1</th>\n",
              "      <td>NaN</td>\n",
              "      <td>NaN</td>\n",
              "      <td>NaN</td>\n",
              "      <td>NaN</td>\n",
              "      <td>0</td>\n",
              "    </tr>\n",
              "    <tr>\n",
              "      <th>2</th>\n",
              "      <td>NaN</td>\n",
              "      <td>NaN</td>\n",
              "      <td>NaN</td>\n",
              "      <td>NaN</td>\n",
              "      <td>1</td>\n",
              "    </tr>\n",
              "    <tr>\n",
              "      <th>3</th>\n",
              "      <td>NaN</td>\n",
              "      <td>NaN</td>\n",
              "      <td>29.0</td>\n",
              "      <td>0.0</td>\n",
              "      <td>1</td>\n",
              "    </tr>\n",
              "    <tr>\n",
              "      <th>4</th>\n",
              "      <td>NaN</td>\n",
              "      <td>NaN</td>\n",
              "      <td>101.0</td>\n",
              "      <td>2.0</td>\n",
              "      <td>3</td>\n",
              "    </tr>\n",
              "  </tbody>\n",
              "</table>\n",
              "</div>\n",
              "      <button class=\"colab-df-convert\" onclick=\"convertToInteractive('df-a5f7caab-c066-411c-b531-b02e34f8819f')\"\n",
              "              title=\"Convert this dataframe to an interactive table.\"\n",
              "              style=\"display:none;\">\n",
              "        \n",
              "  <svg xmlns=\"http://www.w3.org/2000/svg\" height=\"24px\"viewBox=\"0 0 24 24\"\n",
              "       width=\"24px\">\n",
              "    <path d=\"M0 0h24v24H0V0z\" fill=\"none\"/>\n",
              "    <path d=\"M18.56 5.44l.94 2.06.94-2.06 2.06-.94-2.06-.94-.94-2.06-.94 2.06-2.06.94zm-11 1L8.5 8.5l.94-2.06 2.06-.94-2.06-.94L8.5 2.5l-.94 2.06-2.06.94zm10 10l.94 2.06.94-2.06 2.06-.94-2.06-.94-.94-2.06-.94 2.06-2.06.94z\"/><path d=\"M17.41 7.96l-1.37-1.37c-.4-.4-.92-.59-1.43-.59-.52 0-1.04.2-1.43.59L10.3 9.45l-7.72 7.72c-.78.78-.78 2.05 0 2.83L4 21.41c.39.39.9.59 1.41.59.51 0 1.02-.2 1.41-.59l7.78-7.78 2.81-2.81c.8-.78.8-2.07 0-2.86zM5.41 20L4 18.59l7.72-7.72 1.47 1.35L5.41 20z\"/>\n",
              "  </svg>\n",
              "      </button>\n",
              "      \n",
              "  <style>\n",
              "    .colab-df-container {\n",
              "      display:flex;\n",
              "      flex-wrap:wrap;\n",
              "      gap: 12px;\n",
              "    }\n",
              "\n",
              "    .colab-df-convert {\n",
              "      background-color: #E8F0FE;\n",
              "      border: none;\n",
              "      border-radius: 50%;\n",
              "      cursor: pointer;\n",
              "      display: none;\n",
              "      fill: #1967D2;\n",
              "      height: 32px;\n",
              "      padding: 0 0 0 0;\n",
              "      width: 32px;\n",
              "    }\n",
              "\n",
              "    .colab-df-convert:hover {\n",
              "      background-color: #E2EBFA;\n",
              "      box-shadow: 0px 1px 2px rgba(60, 64, 67, 0.3), 0px 1px 3px 1px rgba(60, 64, 67, 0.15);\n",
              "      fill: #174EA6;\n",
              "    }\n",
              "\n",
              "    [theme=dark] .colab-df-convert {\n",
              "      background-color: #3B4455;\n",
              "      fill: #D2E3FC;\n",
              "    }\n",
              "\n",
              "    [theme=dark] .colab-df-convert:hover {\n",
              "      background-color: #434B5C;\n",
              "      box-shadow: 0px 1px 3px 1px rgba(0, 0, 0, 0.15);\n",
              "      filter: drop-shadow(0px 1px 2px rgba(0, 0, 0, 0.3));\n",
              "      fill: #FFFFFF;\n",
              "    }\n",
              "  </style>\n",
              "\n",
              "      <script>\n",
              "        const buttonEl =\n",
              "          document.querySelector('#df-a5f7caab-c066-411c-b531-b02e34f8819f button.colab-df-convert');\n",
              "        buttonEl.style.display =\n",
              "          google.colab.kernel.accessAllowed ? 'block' : 'none';\n",
              "\n",
              "        async function convertToInteractive(key) {\n",
              "          const element = document.querySelector('#df-a5f7caab-c066-411c-b531-b02e34f8819f');\n",
              "          const dataTable =\n",
              "            await google.colab.kernel.invokeFunction('convertToInteractive',\n",
              "                                                     [key], {});\n",
              "          if (!dataTable) return;\n",
              "\n",
              "          const docLinkHtml = 'Like what you see? Visit the ' +\n",
              "            '<a target=\"_blank\" href=https://colab.research.google.com/notebooks/data_table.ipynb>data table notebook</a>'\n",
              "            + ' to learn more about interactive tables.';\n",
              "          element.innerHTML = '';\n",
              "          dataTable['output_type'] = 'display_data';\n",
              "          await google.colab.output.renderOutput(dataTable, element);\n",
              "          const docLink = document.createElement('div');\n",
              "          docLink.innerHTML = docLinkHtml;\n",
              "          element.appendChild(docLink);\n",
              "        }\n",
              "      </script>\n",
              "    </div>\n",
              "  </div>\n",
              "  "
            ]
          },
          "metadata": {},
          "execution_count": 6
        }
      ],
      "source": [
        "household_data.head()"
      ]
    },
    {
      "cell_type": "markdown",
      "metadata": {
        "id": "DTGiurEWyQgl"
      },
      "source": [
        "Let's explore the distribution of one of the variables of our data. Choose one of the variables from the dropdown and then run the rest of the code!\n",
        "\n",
        "Make sure to remember to run the \\[ \\] next to the dropdown and all code if you want to update it."
      ]
    },
    {
      "cell_type": "code",
      "execution_count": null,
      "metadata": {
        "id": "cfgOTredhmKj"
      },
      "outputs": [],
      "source": [
        "variable_to_explore = \"WaterCostInDollars\" #@param ['WaterCostInDollars', 'FireHazardFloodInsuranceYearlyCostInDollars','GrossRentAsPercentOfIncome', 'NumberOfChildrenInHousehold','NumberOfPeopleInHousehold', 'AgeInYears', 'TravelTimeToWorkInMinutes', 'NumberOfPeopleInCarpool','HoursWorkedWeeklyInPastYear', 'TotalIncomeInDollars']\n",
        "\n",
        "df = household_data if variable_to_explore in household_data.columns else person_data"
      ]
    },
    {
      "cell_type": "markdown",
      "metadata": {
        "id": "mjRAX6NozHWz"
      },
      "source": [
        "# Old Tools\n",
        "We still have access to all the same statistical tools and tests that we have been used to! Let's explore those.\n"
      ]
    },
    {
      "cell_type": "code",
      "execution_count": null,
      "metadata": {
        "colab": {
          "base_uri": "https://localhost:8080/"
        },
        "id": "a_dOwSdMzF5J",
        "outputId": "7d13600e-5cf9-478c-c3da-a3ae98bd744c"
      },
      "outputs": [
        {
          "output_type": "stream",
          "name": "stdout",
          "text": [
            "Mean of TotalIncomeInDollars is 43396.682\n",
            "\n",
            "Median of TotalIncomeInDollars is 28000.0\n",
            "\n",
            "Mode of TotalIncomeInDollars is 0.0\n",
            "\n",
            "Quartiles of TotalIncomeInDollars are -7000.0, 9800.0, 57000.0, 944000.0\n",
            "\n"
          ]
        }
      ],
      "source": [
        "# Calculate and print the mean.\n",
        "mean = df[variable_to_explore].mean()\n",
        "print(f\"Mean of {variable_to_explore} is {round(mean,3)}\\n\")\n",
        "\n",
        "# Calculate and print the median.\n",
        "median = df[variable_to_explore].median()\n",
        "print(f\"Median of {variable_to_explore} is {round(median,3)}\\n\")\n",
        "\n",
        "# Calculate and print the mode.\n",
        "mode = float(df[variable_to_explore].mode())\n",
        "print(f\"Mode of {variable_to_explore} is {round(mode,3)}\\n\")\n",
        "\n",
        "# Calculate the quartiles\n",
        "minv = float(df[variable_to_explore].min())\n",
        "q2 = float(df[variable_to_explore].quantile(q=0.25))\n",
        "q3 = float(df[variable_to_explore].quantile(q=0.75))\n",
        "maxv = float(df[variable_to_explore].max())\n",
        "print(f\"Quartiles of {variable_to_explore} are {round(minv, 3)}, {round(q2, 3)}, {round(q3, 3)}, {round(maxv, 3)}\\n\")"
      ]
    },
    {
      "cell_type": "markdown",
      "metadata": {
        "id": "ExpX08OtzJvL"
      },
      "source": [
        "# When excel won't cut it.\n",
        "Sometimes we need even more powerful graphical or statistical tools. Let's see what we can do in python! "
      ]
    },
    {
      "cell_type": "code",
      "execution_count": null,
      "metadata": {
        "cellView": "form",
        "id": "axw3k8FAwr_2"
      },
      "outputs": [],
      "source": [
        "include_outliers = False #@param {type:\"boolean\"}\n",
        "num_bins = 32 #@param {type:\"slider\", min:0, max:100, step:1}\n",
        "symbol = 'X' if include_outliers else ''\n",
        "bounds = (5, 95) if include_outliers else (0,100)\n",
        "\n",
        "# Helper for later...\n",
        "def get_user_file():\n",
        "  uploaded = files.upload()\n",
        "  csv_name = list(uploaded.keys())[0]\n",
        "  try:\n",
        "    return pd.read_csv(io.BytesIO(uploaded[csv_name]))\n",
        "  except:\n",
        "    print(\"Something is wrong with your CSV! Did you choose the right file?\")\n",
        "    return pd.DataFrame()"
      ]
    },
    {
      "cell_type": "code",
      "source": [
        "df[variable_to_explore]"
      ],
      "metadata": {
        "colab": {
          "base_uri": "https://localhost:8080/"
        },
        "id": "iB8IhYJRiq-k",
        "outputId": "bf745db4-b9c7-4254-d9fa-ac9bfb1c4609"
      },
      "execution_count": null,
      "outputs": [
        {
          "output_type": "execute_result",
          "data": {
            "text/plain": [
              "0         40000.0\n",
              "1          3000.0\n",
              "2             NaN\n",
              "3         15000.0\n",
              "4         31400.0\n",
              "           ...   \n",
              "42075    160000.0\n",
              "42076     31800.0\n",
              "42077     90000.0\n",
              "42078         0.0\n",
              "42079     63000.0\n",
              "Name: TotalIncomeInDollars, Length: 42080, dtype: float64"
            ]
          },
          "metadata": {},
          "execution_count": 11
        }
      ]
    },
    {
      "cell_type": "code",
      "execution_count": null,
      "metadata": {
        "colab": {
          "base_uri": "https://localhost:8080/",
          "height": 573
        },
        "id": "Y2A07rnghJ5N",
        "outputId": "6a9d602f-af24-42c1-fb4c-f1334345ae0e"
      },
      "outputs": [
        {
          "output_type": "display_data",
          "data": {
            "text/plain": [
              "<Figure size 432x288 with 1 Axes>"
            ],
            "image/png": "[encoded data removed]"
          },
          "metadata": {
            "needs_background": "light"
          }
        },
        {
          "output_type": "display_data",
          "data": {
            "text/plain": [
              "<Figure size 432x288 with 1 Axes>"
            ],
            "image/png": "[encoded data removed]"
          },
          "metadata": {
            "needs_background": "light"
          }
        }
      ],
      "source": [
        "# Define the range of the Y axis\n",
        "ranges = [df[variable_to_explore].min() - 5, df[variable_to_explore].max() + 5]\n",
        "\n",
        "# Create the box and whiskers (boxplot)\n",
        "plt.boxplot(df[variable_to_explore].dropna(), vert=False, sym=symbol, whis=bounds)\n",
        "plt.title(f\"Boxplot of {variable_to_explore} in {state_of_interest}\")\n",
        "plt.ylabel(\"Distribution\")\n",
        "plt.xlabel(variable_to_explore)\n",
        "plt.yticks(ticks=[1], labels=[\"100\"])\n",
        "plt.xlim(ranges)\n",
        "plt.show()\n",
        "\n",
        "# Create the histogram\n",
        "plt.hist(df[variable_to_explore].dropna(), bins=num_bins)\n",
        "plt.title(f\"Histogram of {variable_to_explore} in {state_of_interest}\")\n",
        "plt.ylabel(\"Count in Bin\")\n",
        "plt.xlabel(variable_to_explore)\n",
        "plt.xlim(ranges)\n",
        "plt.show()"
      ]
    },
    {
      "cell_type": "markdown",
      "metadata": {
        "id": "ZPQlB6CktJE6"
      },
      "source": [
        "# Explore your data!\n",
        "Let's see how these state-wide results compare to your survey results. \n",
        "\n",
        "1.   Make sure that the column names that you collected match the ones used in this Colab: WaterCostInDollars, FireHazardFloodInsuranceYearlyCostInDollars, GrossRentAsPercentOfIncome, NumberOfChildrenInHousehold,NumberOfPeopleInHousehold, AgeInYears, TravelTimeToWorkInMinutes, NumberOfPeopleInCarpool, HoursWorkedWeeklyInPastYear, TotalIncomeInDollars\n",
        "2.   Download your data as CSV! In your Google Sheet, select File -> Download -> Comma separated values (CSV)\n",
        "3. Re-Run the cell below and choose the CSV file that you downloaded.\n",
        "-- "
      ]
    },
    {
      "cell_type": "code",
      "execution_count": null,
      "metadata": {
        "colab": {
          "base_uri": "https://localhost:8080/",
          "height": 545
        },
        "id": "busIbrsVr2UY",
        "outputId": "6dc071ad-201d-47d3-eb56-7ff8bb75c97c"
      },
      "outputs": [
        {
          "name": "stdout",
          "output_type": "stream",
          "text": [
            "What's your name?\n"
          ]
        },
        {
          "ename": "KeyboardInterrupt",
          "evalue": "ignored",
          "output_type": "error",
          "traceback": [
            "\u001b[0;31m---------------------------------------------------------------------------\u001b[0m",
            "\u001b[0;31mKeyboardInterrupt\u001b[0m                         Traceback (most recent call last)",
            "\u001b[0;32m/usr/local/lib/python3.7/dist-packages/ipykernel/kernelbase.py\u001b[0m in \u001b[0;36m_input_request\u001b[0;34m(self, prompt, ident, parent, password)\u001b[0m\n\u001b[1;32m    728\u001b[0m             \u001b[0;32mtry\u001b[0m\u001b[0;34m:\u001b[0m\u001b[0;34m\u001b[0m\u001b[0;34m\u001b[0m\u001b[0m\n\u001b[0;32m--> 729\u001b[0;31m                 \u001b[0mident\u001b[0m\u001b[0;34m,\u001b[0m \u001b[0mreply\u001b[0m \u001b[0;34m=\u001b[0m \u001b[0mself\u001b[0m\u001b[0;34m.\u001b[0m\u001b[0msession\u001b[0m\u001b[0;34m.\u001b[0m\u001b[0mrecv\u001b[0m\u001b[0;34m(\u001b[0m\u001b[0mself\u001b[0m\u001b[0;34m.\u001b[0m\u001b[0mstdin_socket\u001b[0m\u001b[0;34m,\u001b[0m \u001b[0;36m0\u001b[0m\u001b[0;34m)\u001b[0m\u001b[0;34m\u001b[0m\u001b[0;34m\u001b[0m\u001b[0m\n\u001b[0m\u001b[1;32m    730\u001b[0m             \u001b[0;32mexcept\u001b[0m \u001b[0mException\u001b[0m\u001b[0;34m:\u001b[0m\u001b[0;34m\u001b[0m\u001b[0;34m\u001b[0m\u001b[0m\n",
            "\u001b[0;32m/usr/local/lib/python3.7/dist-packages/jupyter_client/session.py\u001b[0m in \u001b[0;36mrecv\u001b[0;34m(self, socket, mode, content, copy)\u001b[0m\n\u001b[1;32m    802\u001b[0m         \u001b[0;32mtry\u001b[0m\u001b[0;34m:\u001b[0m\u001b[0;34m\u001b[0m\u001b[0;34m\u001b[0m\u001b[0m\n\u001b[0;32m--> 803\u001b[0;31m             \u001b[0mmsg_list\u001b[0m \u001b[0;34m=\u001b[0m \u001b[0msocket\u001b[0m\u001b[0;34m.\u001b[0m\u001b[0mrecv_multipart\u001b[0m\u001b[0;34m(\u001b[0m\u001b[0mmode\u001b[0m\u001b[0;34m,\u001b[0m \u001b[0mcopy\u001b[0m\u001b[0;34m=\u001b[0m\u001b[0mcopy\u001b[0m\u001b[0;34m)\u001b[0m\u001b[0;34m\u001b[0m\u001b[0;34m\u001b[0m\u001b[0m\n\u001b[0m\u001b[1;32m    804\u001b[0m         \u001b[0;32mexcept\u001b[0m \u001b[0mzmq\u001b[0m\u001b[0;34m.\u001b[0m\u001b[0mZMQError\u001b[0m \u001b[0;32mas\u001b[0m \u001b[0me\u001b[0m\u001b[0;34m:\u001b[0m\u001b[0;34m\u001b[0m\u001b[0;34m\u001b[0m\u001b[0m\n",
            "\u001b[0;32m/usr/local/lib/python3.7/dist-packages/zmq/sugar/socket.py\u001b[0m in \u001b[0;36mrecv_multipart\u001b[0;34m(self, flags, copy, track)\u001b[0m\n\u001b[1;32m    624\u001b[0m         \"\"\"\n\u001b[0;32m--> 625\u001b[0;31m         \u001b[0mparts\u001b[0m \u001b[0;34m=\u001b[0m \u001b[0;34m[\u001b[0m\u001b[0mself\u001b[0m\u001b[0;34m.\u001b[0m\u001b[0mrecv\u001b[0m\u001b[0;34m(\u001b[0m\u001b[0mflags\u001b[0m\u001b[0;34m,\u001b[0m \u001b[0mcopy\u001b[0m\u001b[0;34m=\u001b[0m\u001b[0mcopy\u001b[0m\u001b[0;34m,\u001b[0m \u001b[0mtrack\u001b[0m\u001b[0;34m=\u001b[0m\u001b[0mtrack\u001b[0m\u001b[0;34m)\u001b[0m\u001b[0;34m]\u001b[0m\u001b[0;34m\u001b[0m\u001b[0;34m\u001b[0m\u001b[0m\n\u001b[0m\u001b[1;32m    626\u001b[0m         \u001b[0;31m# have first part already, only loop while more to receive\u001b[0m\u001b[0;34m\u001b[0m\u001b[0;34m\u001b[0m\u001b[0;34m\u001b[0m\u001b[0m\n",
            "\u001b[0;32mzmq/backend/cython/socket.pyx\u001b[0m in \u001b[0;36mzmq.backend.cython.socket.Socket.recv\u001b[0;34m()\u001b[0m\n",
            "\u001b[0;32mzmq/backend/cython/socket.pyx\u001b[0m in \u001b[0;36mzmq.backend.cython.socket.Socket.recv\u001b[0;34m()\u001b[0m\n",
            "\u001b[0;32mzmq/backend/cython/socket.pyx\u001b[0m in \u001b[0;36mzmq.backend.cython.socket._recv_copy\u001b[0;34m()\u001b[0m\n",
            "\u001b[0;32m/usr/local/lib/python3.7/dist-packages/zmq/backend/cython/checkrc.pxd\u001b[0m in \u001b[0;36mzmq.backend.cython.checkrc._check_rc\u001b[0;34m()\u001b[0m\n",
            "\u001b[0;31mKeyboardInterrupt\u001b[0m: ",
            "\nDuring handling of the above exception, another exception occurred:\n",
            "\u001b[0;31mKeyboardInterrupt\u001b[0m                         Traceback (most recent call last)",
            "\u001b[0;32m<ipython-input-9-daa10c03b4df>\u001b[0m in \u001b[0;36m<module>\u001b[0;34m()\u001b[0m\n\u001b[1;32m      1\u001b[0m \u001b[0mprint\u001b[0m\u001b[0;34m(\u001b[0m\u001b[0;34m\"What's your name?\"\u001b[0m\u001b[0;34m)\u001b[0m\u001b[0;34m\u001b[0m\u001b[0;34m\u001b[0m\u001b[0m\n\u001b[0;32m----> 2\u001b[0;31m \u001b[0mstudent_name\u001b[0m \u001b[0;34m=\u001b[0m \u001b[0minput\u001b[0m\u001b[0;34m(\u001b[0m\u001b[0;34m)\u001b[0m\u001b[0;34m\u001b[0m\u001b[0;34m\u001b[0m\u001b[0m\n\u001b[0m",
            "\u001b[0;32m/usr/local/lib/python3.7/dist-packages/ipykernel/kernelbase.py\u001b[0m in \u001b[0;36mraw_input\u001b[0;34m(self, prompt)\u001b[0m\n\u001b[1;32m    702\u001b[0m             \u001b[0mself\u001b[0m\u001b[0;34m.\u001b[0m\u001b[0m_parent_ident\u001b[0m\u001b[0;34m,\u001b[0m\u001b[0;34m\u001b[0m\u001b[0;34m\u001b[0m\u001b[0m\n\u001b[1;32m    703\u001b[0m             \u001b[0mself\u001b[0m\u001b[0;34m.\u001b[0m\u001b[0m_parent_header\u001b[0m\u001b[0;34m,\u001b[0m\u001b[0;34m\u001b[0m\u001b[0;34m\u001b[0m\u001b[0m\n\u001b[0;32m--> 704\u001b[0;31m             \u001b[0mpassword\u001b[0m\u001b[0;34m=\u001b[0m\u001b[0;32mFalse\u001b[0m\u001b[0;34m,\u001b[0m\u001b[0;34m\u001b[0m\u001b[0;34m\u001b[0m\u001b[0m\n\u001b[0m\u001b[1;32m    705\u001b[0m         )\n\u001b[1;32m    706\u001b[0m \u001b[0;34m\u001b[0m\u001b[0m\n",
            "\u001b[0;32m/usr/local/lib/python3.7/dist-packages/ipykernel/kernelbase.py\u001b[0m in \u001b[0;36m_input_request\u001b[0;34m(self, prompt, ident, parent, password)\u001b[0m\n\u001b[1;32m    732\u001b[0m             \u001b[0;32mexcept\u001b[0m \u001b[0mKeyboardInterrupt\u001b[0m\u001b[0;34m:\u001b[0m\u001b[0;34m\u001b[0m\u001b[0;34m\u001b[0m\u001b[0m\n\u001b[1;32m    733\u001b[0m                 \u001b[0;31m# re-raise KeyboardInterrupt, to truncate traceback\u001b[0m\u001b[0;34m\u001b[0m\u001b[0;34m\u001b[0m\u001b[0;34m\u001b[0m\u001b[0m\n\u001b[0;32m--> 734\u001b[0;31m                 \u001b[0;32mraise\u001b[0m \u001b[0mKeyboardInterrupt\u001b[0m\u001b[0;34m\u001b[0m\u001b[0;34m\u001b[0m\u001b[0m\n\u001b[0m\u001b[1;32m    735\u001b[0m             \u001b[0;32melse\u001b[0m\u001b[0;34m:\u001b[0m\u001b[0;34m\u001b[0m\u001b[0;34m\u001b[0m\u001b[0m\n\u001b[1;32m    736\u001b[0m                 \u001b[0;32mbreak\u001b[0m\u001b[0;34m\u001b[0m\u001b[0;34m\u001b[0m\u001b[0m\n",
            "\u001b[0;31mKeyboardInterrupt\u001b[0m: "
          ]
        }
      ],
      "source": [
        "print(\"What's your name?\")\n",
        "student_name = input()"
      ]
    },
    {
      "cell_type": "code",
      "execution_count": null,
      "metadata": {
        "id": "4upWPdP6ukvx"
      },
      "outputs": [],
      "source": [
        "user_data = get_user_file()"
      ]
    },
    {
      "cell_type": "code",
      "execution_count": null,
      "metadata": {
        "id": "Ua5gelZVrnu-"
      },
      "outputs": [],
      "source": [
        "if variable_to_explore not in user_data.columns:\n",
        "  print(f\"You do not have {variable_to_explore} in your Sheet! Double check that it matches exactly and then reupload your file!\")\n",
        "else:\n",
        "  fig, axs = plt.subplots(2, 2)\n",
        "\n",
        "  def label_axes(axes, graph_type, transition_word, location, ranges):\n",
        "      # axes.title.set_text(f\"{graph_type} of {variable_to_explore} {transition_word} {location}\")\n",
        "      # axes.set_xlabel(variable_to_explore)\n",
        "      axes.set_xlim(ranges)\n",
        "\n",
        "  # Calculate shared range.\n",
        "  ranges = [min(df[variable_to_explore].min(), user_data[variable_to_explore].min()) - 5,\n",
        "          max(df[variable_to_explore].max(), user_data[variable_to_explore].max()) + 5]\n",
        "  # Create various plots.\n",
        "  state_data_for_var = df[variable_to_explore].dropna()\n",
        "  user_data_for_var = user_data[variable_to_explore].dropna()\n",
        "  print(f\"Distribution of {variable_to_explore} in {state_of_interest} (Top) vs {student_name}'s Survey (Bottom)\")\n",
        "  axs[0, 0].boxplot(state_data_for_var, vert=False, sym=symbol, whis=bounds)\n",
        "  label_axes(axs[0, 0], \"Boxplot\", \"in\", state_of_interest, ranges) \n",
        "  axs[0, 1].hist(state_data_for_var, bins=num_bins)\n",
        "  label_axes(axs[0, 1], \"Histogram\", \"in\", state_of_interest, ranges) \n",
        "  axs[1, 0].boxplot(user_data_for_var, vert=False, sym=symbol, whis=bounds)\n",
        "  label_axes(axs[1, 0], \"Boxplot\", student_name + \"'s Survey\", \"for\", ranges) \n",
        "  axs[1, 1].hist(user_data_for_var, bins=num_bins)\n",
        "  label_axes(axs[1, 1], \"Histogram\", student_name + \"'s Survey\", \"for\", ranges) "
      ]
    },
    {
      "cell_type": "code",
      "execution_count": null,
      "metadata": {
        "id": "ef6QrdGfsgsw"
      },
      "outputs": [],
      "source": [
        ""
      ]
    },
    {
      "cell_type": "code",
      "execution_count": null,
      "metadata": {
        "id": "Mmsw-TXpzQTt"
      },
      "outputs": [],
      "source": [
        ""
      ]
    },
    {
      "cell_type": "code",
      "execution_count": null,
      "metadata": {
        "id": "Fr2DLTmbyy5e"
      },
      "outputs": [],
      "source": [
        ""
      ]
    }
  ],
  "metadata": {
    "colab": {
      "collapsed_sections": [],
      "name": "Copy of Box Plots - Explore Your Own Data",
      "provenance": [],
      "include_colab_link": true
    },
    "kernelspec": {
      "display_name": "Python 3",
      "name": "python3"
    }
  },
  "nbformat": 4,
  "nbformat_minor": 0
}